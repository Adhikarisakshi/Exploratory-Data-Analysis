{
 "cells": [
  {
   "cell_type": "markdown",
   "id": "7a29c769",
   "metadata": {},
   "source": [
    "# DATA ANALYSIS ON COVID -19 DATASET"
   ]
  },
  {
   "cell_type": "code",
   "execution_count": null,
   "id": "67bb7396",
   "metadata": {},
   "outputs": [],
   "source": [
    "import pandas as pd"
   ]
  },
  {
   "cell_type": "code",
   "execution_count": null,
   "id": "49b04e2d",
   "metadata": {},
   "outputs": [],
   "source": [
    "df=pd.read_csv(r'C:\\Users\\MANISH ADHIKARI\\Desktop\\New folder (3)\\4. covid_19_data.csv')"
   ]
  },
  {
   "cell_type": "code",
   "execution_count": null,
   "id": "da4e91ec",
   "metadata": {},
   "outputs": [],
   "source": [
    "df.info()"
   ]
  },
  {
   "cell_type": "code",
   "execution_count": null,
   "id": "f3140016",
   "metadata": {},
   "outputs": [],
   "source": [
    "df.head()"
   ]
  },
  {
   "cell_type": "code",
   "execution_count": null,
   "id": "61daaf61",
   "metadata": {},
   "outputs": [],
   "source": [
    "df.count()"
   ]
  },
  {
   "cell_type": "code",
   "execution_count": null,
   "id": "8da80364",
   "metadata": {},
   "outputs": [],
   "source": [
    "df.isnull().sum() #state has 181 null values"
   ]
  },
  {
   "cell_type": "code",
   "execution_count": null,
   "id": "eccd7d91",
   "metadata": {},
   "outputs": [],
   "source": [
    "import seaborn as sns"
   ]
  },
  {
   "cell_type": "code",
   "execution_count": null,
   "id": "7f064324",
   "metadata": {},
   "outputs": [],
   "source": [
    "%matplotlib inline"
   ]
  },
  {
   "cell_type": "code",
   "execution_count": null,
   "id": "d8a89bd7",
   "metadata": {},
   "outputs": [],
   "source": [
    "import matplotlib.pyplot as plt"
   ]
  },
  {
   "cell_type": "code",
   "execution_count": null,
   "id": "73ec6001",
   "metadata": {},
   "outputs": [],
   "source": [
    "sns.heatmap(df.isnull())\n",
    "plt.show()"
   ]
  },
  {
   "cell_type": "markdown",
   "id": "392fd139",
   "metadata": {},
   "source": [
    "# show the no. of confirmed deaths and recovered cases in each regions"
   ]
  },
  {
   "cell_type": "code",
   "execution_count": null,
   "id": "9c5a759f",
   "metadata": {},
   "outputs": [],
   "source": [
    "df.head()"
   ]
  },
  {
   "cell_type": "code",
   "execution_count": null,
   "id": "1ae0284f",
   "metadata": {},
   "outputs": [],
   "source": [
    "df.groupby(['Region'])['Confirmed','Recovered'].sum()"
   ]
  },
  {
   "cell_type": "code",
   "execution_count": null,
   "id": "cab0d3a2",
   "metadata": {},
   "outputs": [],
   "source": [
    "df.groupby(['Region']).sum().head(20)"
   ]
  },
  {
   "cell_type": "markdown",
   "id": "6d289b59",
   "metadata": {},
   "source": [
    "# remove all the records where confirmed cases are less than 10"
   ]
  },
  {
   "cell_type": "code",
   "execution_count": null,
   "id": "5951e60e",
   "metadata": {},
   "outputs": [],
   "source": [
    "df.head()"
   ]
  },
  {
   "cell_type": "code",
   "execution_count": null,
   "id": "81b5f13b",
   "metadata": {},
   "outputs": [],
   "source": [
    "df.shape"
   ]
  },
  {
   "cell_type": "code",
   "execution_count": null,
   "id": "24f4a851",
   "metadata": {},
   "outputs": [],
   "source": [
    "df[df['Confirmed']<10].shape"
   ]
  },
  {
   "cell_type": "code",
   "execution_count": null,
   "id": "82cc76a0",
   "metadata": {},
   "outputs": [],
   "source": [
    "df[~(df['Confirmed']<10)]"
   ]
  },
  {
   "cell_type": "code",
   "execution_count": null,
   "id": "43a3d080",
   "metadata": {},
   "outputs": [],
   "source": [
    "df[~(df['Confirmed']<10)].shape"
   ]
  },
  {
   "cell_type": "code",
   "execution_count": null,
   "id": "b7ffe4cb",
   "metadata": {},
   "outputs": [],
   "source": [
    "df.shape #the change made was not permanent so we do"
   ]
  },
  {
   "cell_type": "code",
   "execution_count": null,
   "id": "01882e15",
   "metadata": {},
   "outputs": [],
   "source": [
    "df=df[~(df['Confirmed']<10)] #changes permanently\n",
    "df.shape"
   ]
  },
  {
   "cell_type": "markdown",
   "id": "e8f10507",
   "metadata": {},
   "source": [
    "# in which region maximum no. of confirmed cases were recorded"
   ]
  },
  {
   "cell_type": "code",
   "execution_count": null,
   "id": "4d5171e0",
   "metadata": {},
   "outputs": [],
   "source": [
    "df.head()"
   ]
  },
  {
   "cell_type": "code",
   "execution_count": null,
   "id": "8675db37",
   "metadata": {},
   "outputs": [],
   "source": [
    "df.groupby('Region').sum()"
   ]
  },
  {
   "cell_type": "code",
   "execution_count": null,
   "id": "56672f24",
   "metadata": {},
   "outputs": [],
   "source": [
    "df.groupby('Region').Confirmed.sum().sort_values(ascending=False)"
   ]
  },
  {
   "cell_type": "markdown",
   "id": "91cf1815",
   "metadata": {},
   "source": [
    "# in which region minimum no. of deaths cases were recorded"
   ]
  },
  {
   "cell_type": "code",
   "execution_count": null,
   "id": "9ad0be42",
   "metadata": {},
   "outputs": [],
   "source": [
    "df.groupby('Region').Deaths.sum().sort_values(ascending=True).head(30)"
   ]
  },
  {
   "cell_type": "markdown",
   "id": "132ccc87",
   "metadata": {},
   "source": [
    "# how many confirmed ,deaths , recovered cases were reported from india till 29 april 2020"
   ]
  },
  {
   "cell_type": "code",
   "execution_count": null,
   "id": "61a472aa",
   "metadata": {},
   "outputs": [],
   "source": [
    "df.head()"
   ]
  },
  {
   "cell_type": "code",
   "execution_count": null,
   "id": "b8ef7956",
   "metadata": {},
   "outputs": [],
   "source": [
    "df[df['Region']=='India']"
   ]
  },
  {
   "cell_type": "markdown",
   "id": "128313b3",
   "metadata": {},
   "source": [
    "# sort the entire data wrt no. of confirmed cases in ascending order"
   ]
  },
  {
   "cell_type": "code",
   "execution_count": null,
   "id": "43c3a08e",
   "metadata": {},
   "outputs": [],
   "source": [
    "df.head()"
   ]
  },
  {
   "cell_type": "code",
   "execution_count": null,
   "id": "83e2173d",
   "metadata": {},
   "outputs": [],
   "source": [
    "df.sort_values(by= ['Confirmed'] , ascending = True).head(10)"
   ]
  },
  {
   "cell_type": "code",
   "execution_count": null,
   "id": "6faaaa2d",
   "metadata": {},
   "outputs": [],
   "source": [
    "df.sort_values(by=['Recovered'], ascending = False).head(10)"
   ]
  }
 ],
 "metadata": {
  "kernelspec": {
   "display_name": "Python 3",
   "language": "python",
   "name": "python3"
  },
  "language_info": {
   "codemirror_mode": {
    "name": "ipython",
    "version": 3
   },
   "file_extension": ".py",
   "mimetype": "text/x-python",
   "name": "python",
   "nbconvert_exporter": "python",
   "pygments_lexer": "ipython3",
   "version": "3.9.5"
  }
 },
 "nbformat": 4,
 "nbformat_minor": 5
}
